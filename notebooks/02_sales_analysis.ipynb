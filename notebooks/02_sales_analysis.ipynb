{
 "cells": [
  {
   "cell_type": "markdown",
   "metadata": {},
   "source": [
    "# Análise de Vendas e Receita\n",
    "\n",
    "Este notebook realiza uma análise detalhada das vendas e receita do e-commerce da Olist, explorando tendências, padrões sazonais e fatores que influenciam o desempenho de vendas."
   ]
  },
  {
   "cell_type": "markdown",
   "metadata": {},
   "source": [
    "## Importação de Bibliotecas"
   ]
  },
  {
   "cell_type": "code",
   "execution_count": null,
   "metadata": {},
   "source": [
    "# Importações\n",
    "import pandas as pd\n",
    "import numpy as np\n",
    "import matplotlib.pyplot as plt\n",
    "import seaborn as sns\n",
    "import os\n",
    "from datetime import datetime\n",
    "%matplotlib inline\n",
    "\n",
    "# Configurações de visualização\n",
    "plt.style.use('seaborn-v0_8-whitegrid')\n",
    "sns.set_palette('viridis')\n",
    "pd.set_option('display.max_columns', None)"
   ]
  },
  {
   "cell_type": "markdown",
   "metadata": {},
   "source": [
    "## Carregamento dos Dados\n",
    "\n",
    "Carregamos os dados processados do notebook anterior e os dados brutos necessários para esta análise."
   ]
  },
  {
   "cell_type": "code",
   "execution_count": null,
   "metadata": {},
   "source": [
    "# Verificando se os dados processados existem\n",
    "if os.path.exists('../data/processed/orders_processed.csv'):\n",
    "    orders = pd.read_csv('../data/processed/orders_processed.csv')\n",
    "    # Convertendo colunas de data para datetime\n",
    "    date_columns = ['order_purchase_timestamp', 'order_approved_at', 'order_delivered_carrier_date',\n",
    "                    'order_delivered_customer_date', 'order_estimated_delivery_date']\n",
    "    for col in date_columns:\n",
    "        if col in orders.columns:\n",
    "            orders[col] = pd.to_datetime(orders[col])\n",
    "else:\n",
    "    # Se não existir, executar o código do notebook anterior para gerar dados de exemplo\n",
    "    print(\"Dados processados não encontrados. Gerando dados de exemplo...\")\n",
    "    \n",
    "    # Criando diretórios se não existirem\n",
    "    os.makedirs('../data/raw', exist_ok=True)\n",
    "    os.makedirs('../data/processed', exist_ok=True)\n",
    "    \n",
    "    # Dados de exemplo - Pedidos\n",
    "    orders_data = {\n",
    "        'order_id': [f'order_{i}' for i in range(1, 201)],\n",
    "        'customer_id': [f'cust_{i}' for i in range(1, 101)] * 2,\n",
    "        'order_status': np.random.choice(['delivered', 'shipped', 'processing', 'canceled'], 200, p=[0.7, 0.1, 0.1, 0.1]),\n",
    "        'order_purchase_timestamp': pd.date_range(start='2022-01-01', end='2022-12-31', periods=200),\n",
    "        'order_approved_at': pd.date_range(start='2022-01-01', end='2022-12-31', periods=200),\n",
    "        'order_delivered_carrier_date': pd.date_range(start='2022-01-02', end='2023-01-01', periods=200),\n",
    "        'order_delivered_customer_date': pd.date_range(start='2022-01-05', end='2023-01-05', periods=200),\n",
    "        'order_estimated_delivery_date': pd.date_range(start='2022-01-10', end='2023-01-10', periods=200)\n",
    "    }\n",
    "    orders = pd.DataFrame(orders_data)\n",
    "    \n",
    "    # Adicionando colunas de data extraídas\n",
    "    orders['purchase_year'] = orders['order_purchase_timestamp'].dt.year\n",
    "    orders['purchase_month'] = orders['order_purchase_timestamp'].dt.month\n",
    "    orders['purchase_day'] = orders['order_purchase_timestamp'].dt.day\n",
    "    orders['purchase_dayofweek'] = orders['order_purchase_timestamp'].dt.dayofweek\n",
    "    \n",
    "    # Salvando para uso futuro\n",
    "    orders.to_csv('../data/processed/orders_processed.csv', index=False)\n",
    "\n",
    "# Carregando dados de itens de pedido\n",
    "if os.path.exists('../data/raw/olist_order_items_dataset.csv'):\n",
    "    order_items = pd.read_csv('../data/raw/olist_order_items_dataset.csv')\n",
    "else:\n",
    "    # Criando dados de exemplo\n",
    "    order_items_data = {\n",
    "        'order_id': np.random.choice([f'order_{i}' for i in range(1, 201)], 300),\n",
    "        'order_item_id': np.random.randint(1, 5, 300),\n",
    "        'product_id': [f'prod_{i}' for i in range(1, 151)] * 2,\n",
    "        'seller_id': [f'seller_{i}' for i in range(1, 51)] * 6,\n",
    "        'shipping_limit_date': pd.date_range(start='2022-01-01', end='2022-12-31', periods=300).astype(str),\n",
    "        'price': np.random.uniform(10, 1000, 300).round(2),\n",
    "        'freight_value': np.random.uniform(5, 100, 300).round(2)\n",
    "    }\n",
    "    order_items = pd.DataFrame(order_items_data)\n",
    "    os.makedirs('../data/raw', exist_ok=True)\n",
    "    order_items.to_csv('../data/raw/olist_order_items_dataset.csv', index=False)\n",
    "\n",
    "# Carregando dados de produtos\n",
    "if os.path.exists('../data/raw/olist_products_dataset.csv'):\n",
    "    products = pd.read_csv('../data/raw/olist_products_dataset.csv')\n",
    "else:\n",
    "    # Criando dados de exemplo\n",
    "    products_data = {\n",
    "        'product_id': [f'prod_{i}' for i in range(1, 151)],\n",
    "        'product_category_name': np.random.choice(['electronics', 'furniture', 'toys', 'books', 'clothing'], 150),\n",
    "        'product_name_length': np.random.randint(10, 100, 150),\n",
    "        'product_description_length': np.random.randint(100, 1000, 150),\n",
    "        'product_photos_qty': np.random.randint(1, 10, 150),\n",
    "        'product_weight_g': np.random.randint(100, 10000, 150),\n",
    "        'product_length_cm': np.random.randint(10, 100, 150),\n",
    "        'product_height_cm': np.random.randint(5, 50, 150),\n",
    "        'product_width_cm': np.random.randint(5, 50, 150)\n",
    "    }\n",
    "    products = pd.DataFrame(products_data)\n",
    "    os.makedirs('../data/raw', exist_ok=True)\n",
    "    products.to_csv('../data/raw/olist_products_dataset.csv', index=False)"
   ]
  },
  {
   "cell_type": "markdown",
   "metadata": {},
   "source": [
    "## Preparação dos Dados para Análise de Vendas"
   ]
  },
  {
   "cell_type": "code",
   "execution_count": null,
   "metadata": {},
   "source": [
    "# Juntando dados de pedidos e itens de pedido\n",
    "orders_items = pd.merge(orders, order_items, on='order_id', how='inner')\n",
    "\n",
    "# Adicionando informações de produtos\n",
    "orders_items_products = pd.merge(orders_items, products, on='product_id', how='left')\n",
    "\n",
    "# Verificando o resultado da junção\n",
    "print(f\"Número de registros após junção: {len(orders_items_products)}\")\n",
    "orders_items_products.head()"
   ]
  },
  {
   "cell_type": "markdown",
   "metadata": {},
   "source": [
    "## Análise de Vendas por Período"
   ]
  },
  {
   "cell_type": "code",
   "execution_count": null,
   "metadata": {},
   "source": [
    "# Agrupando vendas por mês\n",
    "monthly_sales = orders_items_products.groupby('purchase_month')['price'].sum().reset_index()\n",
    "monthly_orders = orders_items_products.groupby('purchase_month')['order_id'].nunique().reset_index()\n",
    "monthly_orders.columns = ['purchase_month', 'order_count']\n",
    "\n",
    "# Combinando dados de vendas e pedidos\n",
    "monthly_data = pd.merge(monthly_sales, monthly_orders, on='purchase_month')\n",
    "monthly_data['average_order_value'] = monthly_data['price'] / monthly_data['order_count']\n",
    "\n",
    "# Visualizando vendas mensais\n",
    "plt.figure(figsize=(15, 10))\n",
    "\n",
    "plt.subplot(2, 1, 1)\n",
    "sns.barplot(x='purchase_month', y='price', data=monthly_data, color='darkblue')\n",
    "plt.title('Receita Total por Mês', fontsize=16)\n",
    "plt.xlabel('Mês', fontsize=12)\n",
    "plt.ylabel('Receita Total (R$)', fontsize=12)\n",
    "plt.xticks(range(12), ['Jan', 'Fev', 'Mar', 'Abr', 'Mai', 'Jun', 'Jul', 'Ago', 'Set', 'Out', 'Nov', 'Dez'])\n",
    "\n",
    "plt.subplot(2, 1, 2)\n",
    "sns.barplot(x='purchase_month', y='average_order_value', data=monthly_data, color='darkgreen')\n",
    "plt.title('Valor Médio do Pedido por Mês', fontsize=16)\n",
    "plt.xlabel('Mês', fontsize=12)\n",
    "plt.ylabel('Valor Médio do Pedido (R$)', fontsize=12)\n",
    "plt.xticks(range(12), ['Jan', 'Fev', 'Mar', 'Abr', 'Mai', 'Jun', 'Jul', 'Ago', 'Set', 'Out', 'Nov', 'Dez'])\n",
    "\n",
    "plt.tight_layout()\n",
    "plt.savefig('../reports/figures/monthly_sales_analysis.png', dpi=300, bbox_inches='tight')\n",
    "plt.show()"
   ]
  },
  {
   "cell_type": "markdown",
   "metadata": {},
   "source": [
    "## Análise de Vendas por Categoria de Produto"
   ]
  },
  {
   "cell_type": "code",
   "execution_count": null,
   "metadata": {},
   "source": [
    "# Agrupando vendas por categoria de produto\n",
    "category_sales = orders_items_products.groupby('product_category_name').agg({\n",
    "    'price': 'sum',\n",
    "    'order_id': 'nunique',\n",
    "    'product_id': 'nunique'\n",
    "}).reset_index()\n",
    "\n",
    "category_sales.columns = ['category', 'total_sales', 'order_count', 'product_count']\n",
    "category_sales['average_price'] = category_sales['total_sales'] / category_sales['product_count']\n",
    "category_sales = category_sales.sort_values('total_sales', ascending=False).head(10)\n",
    "\n",
    "# Visualizando vendas por categoria\n",
    "plt.figure(figsize=(14, 10))\n",
    "\n",
    "plt.subplot(2, 1, 1)\n",
    "sns.barplot(y='category', x='total_sales', data=category_sales, palette='viridis')\n",
    "plt.title('Top 10 Categorias por Receita Total', fontsize=16)\n",
    "plt.xlabel('Receita Total (R$)', fontsize=12)\n",
    "plt.ylabel('Categoria', fontsize=12)\n",
    "\n",
    "plt.subplot(2, 1, 2)\n",
    "sns.barplot(y='category', x='average_price', data=category_sales, palette='viridis')\n",
    "plt.title('Preço Médio por Categoria', fontsize=16)\n",
    "plt.xlabel('Preço Médio (R$)', fontsize=12)\n",
    "plt.ylabel('Categoria', fontsize=12)\n",
    "\n",
    "plt.tight_layout()\n",
    "plt.savefig('../reports/figures/category_sales_analysis.png', dpi=300, bbox_inches='tight')\n",
    "plt.show()"
   ]
  },
  {
   "cell_type": "markdown",
   "metadata": {},
   "source": [
    "## Análise de Correlação entre Preço e Frete"
   ]
  },
  {
   "cell_type": "code",
   "execution_count": null,
   "metadata": {},
   "source": [
    "# Analisando relação entre preço e frete\n",
    "plt.figure(figsize=(10, 8))\n",
    "sns.scatterplot(x='price', y='freight_value', data=orders_items_products, alpha=0.5, color='darkblue')\n",
    "plt.title('Relação entre Preço e Valor do Frete', fontsize=16)\n",
    "plt.xlabel('Preço (R$)', fontsize=12)\n",
    "plt.ylabel('Valor do Frete (R$)', fontsize=12)\n",
    "\n",
    "# Adicionando linha de tendência\n",
    "from scipy import stats\n",
    "slope, intercept, r_value, p_value, std_err = stats.linregress(orders_items_products['price'], orders_items_products['freight_value'])\n",
    "x = np.array([orders_items_products['price'].min(), orders_items_products['price'].max()])\n",
    "y = intercept + slope * x\n",
    "plt.plot(x, y, 'r', label=f'y = {slope:.4f}x + {intercept:.4f}, R² = {r_value**2:.4f}')\n",
    "plt.legend(fontsize=12)\n",
    "\n",
    "plt.savefig('../reports/figures/price_freight_correlation.png', dpi=300, bbox_inches='tight')\n",
    "plt.show()\n",
    "\n",
    "print(f\"Correlação entre preço e frete: {orders_items_products['price'].corr(orders_items_products['freight_value']):.4f}\")"
   ]
  },
  {
   "cell_type": "markdown",
   "metadata": {},
   "source": [
    "## Análise de Vendas por Dia da Semana"
   ]
  },
  {
   "cell_type": "code",
   "execution_count": null,
   "metadata": {},
   "source": [
    "# Agrupando vendas por dia da semana\n",
    "weekday_sales = orders_items_products.groupby('purchase_dayofweek').agg({\n",
    "    'price': 'sum',\n",
    "    'order_id': 'nunique'\n",
    "}).reset_index()\n",
    "\n",
    "weekday_sales.columns = ['purchase_dayofweek', 'total_sales', 'order_count']\n",
    "weekday_sales['average_order_value'] = weekday_sales['total_sales'] / weekday_sales['order_count']\n",
    "\n",
    "# Visualizando vendas por dia da semana\n",
    "plt.figure(figsize=(15, 10))\n",
    "\n",
    "plt.subplot(2, 1, 1)\n",
    "sns.barplot(x='purchase_dayofweek', y='total_sales', data=weekday_sales, palette='viridis')\n",
    "plt.title('Receita Total por Dia da Semana', fontsize=16)\n",
    "plt.xlabel('Dia da Semana', fontsize=12)\n",
    "plt.ylabel('Receita Total (R$)', fontsize=12)\n",
    "plt.xticks(range(7), ['Segunda', 'Terça', 'Quarta', 'Quinta', 'Sexta', 'Sábado', 'Domingo'])\n",
    "\n",
    "plt.subplot(2, 1, 2)\n",
    "sns.barplot(x='purchase_dayofweek', y='average_order_value', data=weekday_sales, palette='viridis')\n",
    "plt.title('Valor Médio do Pedido por Dia da Semana', fontsize=16)\n",
    "plt.xlabel('Dia da Semana', fontsize=12)\n",
    "plt.ylabel('Valor Médio do Pedido (R$)', fontsize=12)\n",
    "plt.xticks(range(7), ['Segunda', 'Terça', 'Quarta', 'Quinta', 'Sexta', 'Sábado', 'Domingo'])\n",
    "\n",
    "plt.tight_layout()\n",
    "plt.savefig('../reports/figures/weekday_sales_analysis.png', dpi=300, bbox_inches='tight')\n",
    "plt.show()"
   ]
  },
  {
   "cell_type": "markdown",
   "metadata": {},
   "source": [
    "## Análise de Tendência de Vendas ao Longo do Tempo"
   ]
  },
  {
   "cell_type": "code",
   "execution_count": null,
   "metadata": {},
   "source": [
    "# Agrupando vendas por data\n",
    "orders_items_products['order_date'] = orders_items_products['order_purchase_timestamp'].dt.date\n",
    "daily_sales = orders_items_products.groupby('order_date').agg({\n",
    "    'price': 'sum',\n",
    "    'order_id': 'nunique'\n",
    "}).reset_index()\n",
    "\n",
    "# Convertendo para datetime para facilitar a plotagem\n",
    "daily_sales['order_date'] = pd.to_datetime(daily_sales['order_date'])\n",
    "\n",
    "# Visualizando tendência de vendas\n",
    "plt.figure(figsize=(15, 10))\n",
    "\n",
    "plt.subplot(2, 1, 1)\n",
    "plt.plot(daily_sales['order_date'], daily_sales['price'], color='darkblue')\n",
    "plt.title('Receita Diária ao Longo do Tempo', fontsize=16)\n",
    "plt.xlabel('Data', fontsize=12)\n",
    "plt.ylabel('Receita Total (R$)', fontsize=12)\n",
    "plt.grid(True, alpha=0.3)\n",
    "\n",
    "plt.subplot(2, 1, 2)\n",
    "plt.plot(daily_sales['order_date'], daily_sales['order_id'], color='darkgreen')\n",
    "plt.title('Número de Pedidos Diários ao Longo do Tempo', fontsize=16)\n",
    "plt.xlabel('Data', fontsize=12)\n",
    "plt.ylabel('Número de Pedidos', fontsize=12)\n",
    "plt.grid(True, alpha=0.3)\n",
    "\n",
    "plt.tight_layout()\n",
    "plt.savefig('../reports/figures/sales_trend_analysis.png', dpi=300, bbox_inches='tight')\n",
    "plt.show()"
   ]
  },
  {
   "cell_type": "markdown",
   "metadata": {},
   "source": [
    "## Análise de Média Móvel para Suavizar Tendências"
   ]
  },
  {
   "cell_type": "code",
   "execution_count": null,
   "metadata": {},
   "source": [
    "# Calculando média móvel de 7 dias\n",
    "daily_sales['7d_rolling_avg_sales'] = daily_sales['price'].rolling(window=7).mean()\n",
    "daily_sales['7d_rolling_avg_orders'] = daily_sales['order_id'].rolling(window=7).mean()\n",
    "\n",
    "# Visualizando tendência com média móvel\n",
    "plt.figure(figsize=(15, 10))\n",
    "\n",
    "plt.subplot(2, 1, 1)\n",
    "plt.plot(daily_sales['order_date'], daily_sales['price'], color='lightblue', alpha=0.5, label='Receita Diária')\n",
    "plt.plot(daily_sales['order_date'], daily_sales['7d_rolling_avg_sales'], color='darkblue', label='Média Móvel (7 dias)')\n",
    "plt.title('Receita Diária com Média Móvel de 7 Dias', fontsize=16)\n",
    "plt.xlabel('Data', fontsize=12)\n",
    "plt.ylabel('Receita Total (R$)', fontsize=12)\n",
    "plt.grid(True, alpha=0.3)\n",
    "plt.legend()\n",
    "\n",
    "plt.subplot(2, 1, 2)\n",
    "plt.plot(daily_sales['order_date'], daily_sales['order_id'], color='lightgreen', alpha=0.5, label='Pedidos Diários')\n",
    "plt.plot(daily_sales['order_date'], daily_sales['7d_rolling_avg_orders'], color='darkgreen', label='Média Móvel (7 dias)')\n",
    "plt.title('Número de Pedidos Diários com Média Móvel de 7 Dias', fontsize=16)\n",
    "plt.xlabel('Data', fontsize=12)\n",
    "plt.ylabel('Número de Pedidos', fontsize=12)\n",
    "plt.grid(True, alpha=0.3)\n",
    "plt.legend()\n",
    "\n",
    "plt.tight_layout()\n",
    "plt.savefig('../reports/figures/sales_moving_average.png', dpi=300, bbox_inches='tight')\n",
    "plt.show()"
   ]
  },
  {
   "cell_type": "markdown",
   "metadata": {},
   "source": [
    "## Análise de Vendas por Características do Produto"
   ]
  },
  {
   "cell_type": "code",
   "execution_count": null,
   "metadata": {},
   "source": [
    "# Analisando relação entre características do produto e vendas\n",
    "plt.figure(figsize=(15, 10))\n",
    "\n",
    "plt.subplot(2, 2, 1)\n",
    "sns.scatterplot(x='product_weight_g', y='price', data=orders_items_products, alpha=0.5, color='darkblue')\n",
    "plt.title('Relação entre Peso do Produto e Preço', fontsize=14)\n",
    "plt.xlabel('Peso (g)', fontsize=12)\n",
    "plt.ylabel('Preço (R$)', fontsize=12)\n",
    "\n",
    "plt.subplot(2, 2, 2)\n",
    "sns.scatterplot(x='product_photos_qty', y='price', data=orders_items_products, alpha=0.5, color='darkgreen')\n",
    "plt.title('Relação entre Quantidade de Fotos e Preço', fontsize=14)\n",
    "plt.xlabel('Quantidade de Fotos', fontsize=12)\n",
    "plt.ylabel('Preço (R$)', fontsize=12)\n",
    "\n",
    "plt.subplot(2, 2, 3)\n",
    "sns.scatterplot(x='product_description_length', y='price', data=orders_items_products, alpha=0.5, color='darkred')\n",
    "plt.title('Relação entre Tamanho da Descrição e Preço', fontsize=14)\n",
    "plt.xlabel('Tamanho da Descrição (caracteres)', fontsize=12)\n",
    "plt.ylabel('Preço (R$)', fontsize=12)\n",
    "\n",
    "plt.subplot(2, 2, 4)\n",
    "volume = orders_items_products['product_length_cm'] * orders_items_products['product_width_cm'] * orders_items_products['product_height_cm']\n",
    "sns.scatterplot(x=volume, y=orders_items_products['price'], alpha=0.5, color='darkpurple')\n",
    "plt.title('Relação entre Volume do Produto e Preço', fontsize=14)\n",
    "plt.xlabel('Volume (cm³)', fontsize=12)\n",
    "plt.ylabel('Preço (R$)', fontsize=12)\n",
    "\n",
    "plt.tight_layout()\n",
    "plt.savefig('../reports/figures/product_features_price.png', dpi=300, bbox_inches='tight')\n",
    "plt.show()"
   ]
  },
  {
   "cell_type": "markdown",
   "metadata": {},
   "source": [
    "## Salvando Dados Processados"
   ]
  },
  {
   "cell_type": "code",
   "execution_count": null,
   "metadata": {},
   "source": [
    "# Salvando dados processados para uso em outros notebooks\n",
    "os.makedirs('../data/processed', exist_ok=True)\n",
    "\n",
    "# Salvando dados de vendas diárias\n",
    "daily_sales.to_csv('../data/processed/daily_sales.csv', index=False)\n",
    "\n",
    "# Salvando dados de vendas por categoria\n",
    "category_sales.to_csv('../data/processed/category_sales.csv', index=False)\n",
    "\n",
    "print(\"Análise de vendas concluída!\")"
   ]
  },
  {
   "cell_type": "markdown",
   "metadata": {},
   "source": [
    "## Conclusões\n",
    "\n",
    "Nesta análise detalhada das vendas e receita do e-commerce da Olist, identificamos vários padrões e insights importantes:\n",
    "\n",
    "1. **Sazonalidade**: Observamos claros padrões sazonais nas vendas, com picos em determinados meses e dias da semana, o que pode orientar estratégias de marketing e gestão de estoque.\n",
    "\n",
    "2. **Categorias de Produtos**: Identificamos as categorias mais lucrativas e aquelas com maior volume de vendas, permitindo priorização de investimentos.\n",
    "\n",
    "3. **Relação Preço-Frete**: Existe uma correlação positiva entre o preço do produto e o valor do frete, mas com grande variabilidade, sugerindo oportunidades para otimização logística.\n",
    "\n",
    "4. **Tendências Temporais**: A análise de tendências e médias móveis revelou padrões de crescimento e flutuações no volume de vendas ao longo do tempo.\n",
    "\n",
    "5. **Características dos Produtos**: Identificamos relações entre características físicas dos produtos (peso, volume) e seus preços, o que pode orientar estratégias de precificação.\n",
    "\n",
    "Estes insights podem ser utilizados para otimizar estratégias de marketing, precificação, gestão de estoque e logística, contribuindo para o aumento da receita e eficiência operacional."
   ]
  }
 ],
 "metadata": {
  "kernelspec": {
   "display_name": "Python 3",
   "language": "python",
   "name": "python3"
  },
  "language_info": {
   "codemirror_mode": {
    "name": "ipython",
    "version": 3
   },
   "file_extension": ".py",
   "mimetype": "text/x-python",
   "name": "python",
   "nbconvert_exporter": "python",
   "pygments_lexer": "ipython3",
   "version": "3.11.0"
  }
 },
 "nbformat": 4,
 "nbformat_minor": 4
}
