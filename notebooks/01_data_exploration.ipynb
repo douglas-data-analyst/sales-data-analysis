{
 "cells": [
  {
   "cell_type": "markdown",
   "metadata": {},
   "source": [
    "# Análise Exploratória de Dados de E-commerce\n",
    "\n",
    "Este notebook realiza uma análise exploratória inicial dos dados de e-commerce da Olist, explorando as características básicas dos dados, distribuições e relações entre variáveis."
   ]
  },
  {
   "cell_type": "markdown",
   "metadata": {},
   "source": [
    "## Importação de Bibliotecas"
   ]
  },
  {
   "cell_type": "code",
   "execution_count": null,
   "metadata": {},
   "source": [
    "# Importações\n",
    "import pandas as pd\n",
    "import numpy as np\n",
    "import matplotlib.pyplot as plt\n",
    "import seaborn as sns\n",
    "import os\n",
    "from datetime import datetime\n",
    "%matplotlib inline\n",
    "\n",
    "# Configurações de visualização\n",
    "plt.style.use('seaborn-v0_8-whitegrid')\n",
    "sns.set_palette('viridis')\n",
    "pd.set_option('display.max_columns', None)"
   ]
  },
  {
   "cell_type": "markdown",
   "metadata": {},
   "source": [
    "## Carregamento dos Dados\n",
    "\n",
    "Nesta seção, carregamos os dados do dataset brasileiro de e-commerce da Olist. \n",
    "\n",
    "**Nota:** Para executar este notebook, você precisa baixar os dados do [Kaggle](https://www.kaggle.com/datasets/olistbr/brazilian-ecommerce) e salvá-los na pasta `data/raw/`."
   ]
  },
  {
   "cell_type": "code",
   "execution_count": null,
   "metadata": {},
   "source": [
    "# Carregando os dados\n",
    "# Para fins de demonstração, usaremos dados de exemplo incluídos no repositório\n",
    "# Em um cenário real, você baixaria os dados completos do Kaggle\n",
    "\n",
    "# Verificando se os arquivos existem\n",
    "data_files = [\n",
    "    '../data/raw/olist_customers_dataset.csv',\n",
    "    '../data/raw/olist_order_items_dataset.csv',\n",
    "    '../data/raw/olist_orders_dataset.csv',\n",
    "    '../data/raw/olist_products_dataset.csv',\n",
    "    '../data/raw/olist_sellers_dataset.csv'\n",
    "]\n",
    "\n",
    "# Criando dados de exemplo se os arquivos não existirem\n",
    "if not all(os.path.exists(file) for file in data_files):\n",
    "    print(\"Criando dados de exemplo para demonstração...\")\n",
    "    \n",
    "    # Criando diretório se não existir\n",
    "    os.makedirs('../data/raw', exist_ok=True)\n",
    "    \n",
    "    # Dados de exemplo - Clientes\n",
    "    customers_data = {\n",
    "        'customer_id': [f'cust_{i}' for i in range(1, 101)],\n",
    "        'customer_unique_id': [f'uniq_{i}' for i in range(1, 101)],\n",
    "        'customer_zip_code_prefix': np.random.randint(10000, 99999, 100),\n",
    "        'customer_city': np.random.choice(['São Paulo', 'Rio de Janeiro', 'Belo Horizonte', 'Porto Alegre', 'Brasília'], 100),\n",
    "        'customer_state': np.random.choice(['SP', 'RJ', 'MG', 'RS', 'DF'], 100)\n",
    "    }\n",
    "    pd.DataFrame(customers_data).to_csv('../data/raw/olist_customers_dataset.csv', index=False)\n",
    "    \n",
    "    # Dados de exemplo - Pedidos\n",
    "    orders_data = {\n",
    "        'order_id': [f'order_{i}' for i in range(1, 201)],\n",
    "        'customer_id': np.random.choice([f'cust_{i}' for i in range(1, 101)], 200),\n",
    "        'order_status': np.random.choice(['delivered', 'shipped', 'processing', 'canceled'], 200, p=[0.7, 0.1, 0.1, 0.1]),\n",
    "        'order_purchase_timestamp': pd.date_range(start='2022-01-01', end='2022-12-31', periods=200).astype(str),\n",
    "        'order_approved_at': pd.date_range(start='2022-01-01', end='2022-12-31', periods=200).astype(str),\n",
    "        'order_delivered_carrier_date': pd.date_range(start='2022-01-02', end='2023-01-01', periods=200).astype(str),\n",
    "        'order_delivered_customer_date': pd.date_range(start='2022-01-05', end='2023-01-05', periods=200).astype(str),\n",
    "        'order_estimated_delivery_date': pd.date_range(start='2022-01-10', end='2023-01-10', periods=200).astype(str)\n",
    "    }\n",
    "    pd.DataFrame(orders_data).to_csv('../data/raw/olist_orders_dataset.csv', index=False)\n",
    "    \n",
    "    # Dados de exemplo - Produtos\n",
    "    products_data = {\n",
    "        'product_id': [f'prod_{i}' for i in range(1, 151)],\n",
    "        'product_category_name': np.random.choice(['electronics', 'furniture', 'toys', 'books', 'clothing'], 150),\n",
    "        'product_name_length': np.random.randint(10, 100, 150),\n",
    "        'product_description_length': np.random.randint(100, 1000, 150),\n",
    "        'product_photos_qty': np.random.randint(1, 10, 150),\n",
    "        'product_weight_g': np.random.randint(100, 10000, 150),\n",
    "        'product_length_cm': np.random.randint(10, 100, 150),\n",
    "        'product_height_cm': np.random.randint(5, 50, 150),\n",
    "        'product_width_cm': np.random.randint(5, 50, 150)\n",
    "    }\n",
    "    pd.DataFrame(products_data).to_csv('../data/raw/olist_products_dataset.csv', index=False)\n",
    "    \n",
    "    # Dados de exemplo - Itens de Pedido\n",
    "    order_items_data = {\n",
    "        'order_id': np.random.choice([f'order_{i}' for i in range(1, 201)], 300),\n",
    "        'order_item_id': np.random.randint(1, 5, 300),\n",
    "        'product_id': np.random.choice([f'prod_{i}' for i in range(1, 151)], 300),\n",
    "        'seller_id': np.random.choice([f'seller_{i}' for i in range(1, 51)], 300),\n",
    "        'shipping_limit_date': pd.date_range(start='2022-01-01', end='2022-12-31', periods=300).astype(str),\n",
    "        'price': np.random.uniform(10, 1000, 300).round(2),\n",
    "        'freight_value': np.random.uniform(5, 100, 300).round(2)\n",
    "    }\n",
    "    pd.DataFrame(order_items_data).to_csv('../data/raw/olist_order_items_dataset.csv', index=False)\n",
    "    \n",
    "    # Dados de exemplo - Vendedores\n",
    "    sellers_data = {\n",
    "        'seller_id': [f'seller_{i}' for i in range(1, 51)],\n",
    "        'seller_zip_code_prefix': np.random.randint(10000, 99999, 50),\n",
    "        'seller_city': np.random.choice(['São Paulo', 'Rio de Janeiro', 'Belo Horizonte', 'Curitiba', 'Salvador'], 50),\n",
    "        'seller_state': np.random.choice(['SP', 'RJ', 'MG', 'PR', 'BA'], 50)\n",
    "    }\n",
    "    pd.DataFrame(sellers_data).to_csv('../data/raw/olist_sellers_dataset.csv', index=False)\n",
    "    \n",
    "    print(\"Dados de exemplo criados com sucesso!\")\n",
    "\n",
    "# Carregando os dados\n",
    "orders = pd.read_csv('../data/raw/olist_orders_dataset.csv')\n",
    "order_items = pd.read_csv('../data/raw/olist_order_items_dataset.csv')\n",
    "products = pd.read_csv('../data/raw/olist_products_dataset.csv')\n",
    "customers = pd.read_csv('../data/raw/olist_customers_dataset.csv')\n",
    "sellers = pd.read_csv('../data/raw/olist_sellers_dataset.csv')"
   ]
  },
  {
   "cell_type": "markdown",
   "metadata": {},
   "source": [
    "## Exploração Inicial dos Dados"
   ]
  },
  {
   "cell_type": "code",
   "execution_count": null,
   "metadata": {},
   "source": [
    "# Explorando os dados\n",
    "print(f\"Número de pedidos: {len(orders)}\")\n",
    "print(f\"Número de clientes: {len(customers)}\")\n",
    "print(f\"Número de produtos: {len(products)}\")\n",
    "print(f\"Número de vendedores: {len(sellers)}\")"
   ]
  },
  {
   "cell_type": "code",
   "execution_count": null,
   "metadata": {},
   "source": [
    "# Verificando valores ausentes\n",
    "missing_values = pd.DataFrame({\n",
    "    'Missing Values': [orders.isnull().sum().sum(),\n",
    "                      order_items.isnull().sum().sum(),\n",
    "                      products.isnull().sum().sum(),\n",
    "                      customers.isnull().sum().sum(),\n",
    "                      sellers.isnull().sum().sum()],\n",
    "    'Percentage': [orders.isnull().sum().sum() / np.product(orders.shape) * 100,\n",
    "                  order_items.isnull().sum().sum() / np.product(order_items.shape) * 100,\n",
    "                  products.isnull().sum().sum() / np.product(products.shape) * 100,\n",
    "                  customers.isnull().sum().sum() / np.product(customers.shape) * 100,\n",
    "                  sellers.isnull().sum().sum() / np.product(sellers.shape) * 100]\n",
    "}, index=['orders', 'order_items', 'products', 'customers', 'sellers'])\n",
    "\n",
    "print(missing_values)"
   ]
  },
  {
   "cell_type": "markdown",
   "metadata": {},
   "source": [
    "## Preparação dos Dados"
   ]
  },
  {
   "cell_type": "code",
   "execution_count": null,
   "metadata": {},
   "source": [
    "# Convertendo colunas de data para datetime\n",
    "orders['order_purchase_timestamp'] = pd.to_datetime(orders['order_purchase_timestamp'])\n",
    "orders['order_approved_at'] = pd.to_datetime(orders['order_approved_at'])\n",
    "orders['order_delivered_carrier_date'] = pd.to_datetime(orders['order_delivered_carrier_date'])\n",
    "orders['order_delivered_customer_date'] = pd.to_datetime(orders['order_delivered_customer_date'])\n",
    "orders['order_estimated_delivery_date'] = pd.to_datetime(orders['order_estimated_delivery_date'])\n",
    "\n",
    "# Análise temporal básica\n",
    "orders['purchase_year'] = orders['order_purchase_timestamp'].dt.year\n",
    "orders['purchase_month'] = orders['order_purchase_timestamp'].dt.month\n",
    "orders['purchase_day'] = orders['order_purchase_timestamp'].dt.day\n",
    "orders['purchase_dayofweek'] = orders['order_purchase_timestamp'].dt.dayofweek\n",
    "\n",
    "# Verificando as colunas adicionadas\n",
    "orders[['order_purchase_timestamp', 'purchase_year', 'purchase_month', 'purchase_day', 'purchase_dayofweek']].head()"
   ]
  },
  {
   "cell_type": "markdown",
   "metadata": {},
   "source": [
    "## Análise Temporal de Pedidos"
   ]
  },
  {
   "cell_type": "code",
   "execution_count": null,
   "metadata": {},
   "source": [
    "# Visualizando distribuição de pedidos por mês\n",
    "plt.figure(figsize=(12, 6))\n",
    "monthly_orders = orders['purchase_month'].value_counts().sort_index()\n",
    "sns.barplot(x=monthly_orders.index, y=monthly_orders.values, palette='viridis')\n",
    "plt.title('Distribuição de Pedidos por Mês', fontsize=16)\n",
    "plt.xlabel('Mês', fontsize=12)\n",
    "plt.ylabel('Número de Pedidos', fontsize=12)\n",
    "plt.xticks(range(12), ['Jan', 'Fev', 'Mar', 'Abr', 'Mai', 'Jun', 'Jul', 'Ago', 'Set', 'Out', 'Nov', 'Dez'])\n",
    "\n",
    "# Criando diretório para figuras se não existir\n",
    "os.makedirs('../reports/figures', exist_ok=True)\n",
    "plt.savefig('../reports/figures/orders_by_month.png', dpi=300, bbox_inches='tight')\n",
    "plt.show()"
   ]
  },
  {
   "cell_type": "code",
   "execution_count": null,
   "metadata": {},
   "source": [
    "# Visualizando distribuição de pedidos por dia da semana\n",
    "plt.figure(figsize=(12, 6))\n",
    "weekday_orders = orders['purchase_dayofweek'].value_counts().sort_index()\n",
    "sns.barplot(x=weekday_orders.index, y=weekday_orders.values, palette='viridis')\n",
    "plt.title('Distribuição de Pedidos por Dia da Semana', fontsize=16)\n",
    "plt.xlabel('Dia da Semana', fontsize=12)\n",
    "plt.ylabel('Número de Pedidos', fontsize=12)\n",
    "plt.xticks(range(7), ['Segunda', 'Terça', 'Quarta', 'Quinta', 'Sexta', 'Sábado', 'Domingo'])\n",
    "plt.savefig('../reports/figures/orders_by_weekday.png', dpi=300, bbox_inches='tight')\n",
    "plt.show()"
   ]
  },
  {
   "cell_type": "markdown",
   "metadata": {},
   "source": [
    "## Análise de Status dos Pedidos"
   ]
  },
  {
   "cell_type": "code",
   "execution_count": null,
   "metadata": {},
   "source": [
    "# Análise de status dos pedidos\n",
    "plt.figure(figsize=(10, 6))\n",
    "status_counts = orders['order_status'].value_counts()\n",
    "sns.barplot(y=status_counts.index, x=status_counts.values, palette='viridis')\n",
    "plt.title('Distribuição de Status dos Pedidos', fontsize=16)\n",
    "plt.xlabel('Número de Pedidos', fontsize=12)\n",
    "plt.ylabel('Status', fontsize=12)\n",
    "plt.savefig('../reports/figures/order_status_distribution.png', dpi=300, bbox_inches='tight')\n",
    "plt.show()"
   ]
  },
  {
   "cell_type": "markdown",
   "metadata": {},
   "source": [
    "## Análise de Preços e Fretes"
   ]
  },
  {
   "cell_type": "code",
   "execution_count": null,
   "metadata": {},
   "source": [
    "# Análise de preços e fretes\n",
    "plt.figure(figsize=(15, 6))\n",
    "\n",
    "plt.subplot(1, 2, 1)\n",
    "sns.histplot(order_items['price'], kde=True, bins=30, color='darkblue')\n",
    "plt.title('Distribuição de Preços', fontsize=14)\n",
    "plt.xlabel('Preço (R$)', fontsize=12)\n",
    "plt.ylabel('Frequência', fontsize=12)\n",
    "\n",
    "plt.subplot(1, 2, 2)\n",
    "sns.histplot(order_items['freight_value'], kde=True, bins=30, color='darkgreen')\n",
    "plt.title('Distribuição de Valores de Frete', fontsize=14)\n",
    "plt.xlabel('Valor do Frete (R$)', fontsize=12)\n",
    "plt.ylabel('Frequência', fontsize=12)\n",
    "\n",
    "plt.tight_layout()\n",
    "plt.savefig('../reports/figures/price_freight_distribution.png', dpi=300, bbox_inches='tight')\n",
    "plt.show()"
   ]
  },
  {
   "cell_type": "markdown",
   "metadata": {},
   "source": [
    "## Análise de Categorias de Produtos"
   ]
  },
  {
   "cell_type": "code",
   "execution_count": null,
   "metadata": {},
   "source": [
    "# Análise de categorias de produtos\n",
    "plt.figure(figsize=(14, 8))\n",
    "category_counts = products['product_category_name'].value_counts().head(10)\n",
    "sns.barplot(y=category_counts.index, x=category_counts.values, palette='viridis')\n",
    "plt.title('Top 10 Categorias de Produtos', fontsize=16)\n",
    "plt.xlabel('Número de Produtos', fontsize=12)\n",
    "plt.ylabel('Categoria', fontsize=12)\n",
    "plt.savefig('../reports/figures/top_product_categories.png', dpi=300, bbox_inches='tight')\n",
    "plt.show()"
   ]
  },
  {
   "cell_type": "markdown",
   "metadata": {},
   "source": [
    "## Análise Geográfica"
   ]
  },
  {
   "cell_type": "code",
   "execution_count": null,
   "metadata": {},
   "source": [
    "# Análise geográfica - Clientes por estado\n",
    "plt.figure(figsize=(12, 6))\n",
    "state_counts = customers['customer_state'].value_counts()\n",
    "sns.barplot(x=state_counts.index, y=state_counts.values, palette='viridis')\n",
    "plt.title('Distribuição de Clientes por Estado', fontsize=16)\n",
    "plt.xlabel('Estado', fontsize=12)\n",
    "plt.ylabel('Número de Clientes', fontsize=12)\n",
    "plt.xticks(rotation=45)\n",
    "plt.savefig('../reports/figures/customers_by_state.png', dpi=300, bbox_inches='tight')\n",
    "plt.show()"
   ]
  },
  {
   "cell_type": "markdown",
   "metadata": {},
   "source": [
    "## Análise de Vendedores"
   ]
  },
  {
   "cell_type": "code",
   "execution_count": null,
   "metadata": {},
   "source": [
    "# Análise de vendedores por estado\n",
    "plt.figure(figsize=(12, 6))\n",
    "seller_state_counts = sellers['seller_state'].value_counts()\n",
    "sns.barplot(x=seller_state_counts.index, y=seller_state_counts.values, palette='viridis')\n",
    "plt.title('Distribuição de Vendedores por Estado', fontsize=16)\n",
    "plt.xlabel('Estado', fontsize=12)\n",
    "plt.ylabel('Número de Vendedores', fontsize=12)\n",
    "plt.xticks(rotation=45)\n",
    "plt.savefig('../reports/figures/sellers_by_state.png', dpi=300, bbox_inches='tight')\n",
    "plt.show()"
   ]
  },
  {
   "cell_type": "markdown",
   "metadata": {},
   "source": [
    "## Análise de Vendas por Categoria"
   ]
  },
  {
   "cell_type": "code",
   "execution_count": null,
   "metadata": {},
   "source": [
    "# Juntando dados de itens de pedido e produtos\n",
    "order_items_products = pd.merge(order_items, products, on='product_id', how='left')\n",
    "\n",
    "# Calculando vendas por categoria\n",
    "sales_by_category = order_items_products.groupby('product_category_name')['price'].agg(['sum', 'count']).reset_index()\n",
    "sales_by_category.columns = ['category', 'total_sales', 'order_count']\n",
    "sales_by_category = sales_by_category.sort_values('total_sales', ascending=False).head(10)\n",
    "\n",
    "# Visualizando vendas por categoria\n",
    "plt.figure(figsize=(14, 8))\n",
    "sns.barplot(y='category', x='total_sales', data=sales_by_category, palette='viridis')\n",
    "plt.title('Top 10 Categorias por Valor Total de Vendas', fontsize=16)\n",
    "plt.xlabel('Valor Total de Vendas (R$)', fontsize=12)\n",
    "plt.ylabel('Categoria', fontsize=12)\n",
    "plt.savefig('../reports/figures/sales_by_category.png', dpi=300, bbox_inches='tight')\n",
    "plt.show()"
   ]
  },
  {
   "cell_type": "markdown",
   "metadata": {},
   "source": [
    "## Salvando Dados Processados"
   ]
  },
  {
   "cell_type": "code",
   "execution_count": null,
   "metadata": {},
   "source": [
    "# Salvando dados processados para uso em outros notebooks\n",
    "orders_processed = orders.copy()\n",
    "os.makedirs('../data/processed', exist_ok=True)\n",
    "orders_processed.to_csv('../data/processed/orders_processed.csv', index=False)\n",
    "\n",
    "# Salvando dados de vendas por categoria\n",
    "sales_by_category.to_csv('../data/processed/sales_by_category.csv', index=False)\n",
    "\n",
    "print(\"Análise exploratória inicial concluída!\")"
   ]
  },
  {
   "cell_type": "markdown",
   "metadata": {},
   "source": [
    "## Conclusões\n",
    "\n",
    "Nesta análise exploratória inicial, identificamos vários padrões interessantes nos dados de e-commerce da Olist:\n",
    "\n",
    "1. **Padrões Temporais**: Observamos variações significativas nas vendas por mês e dia da semana, com picos em determinados períodos.\n",
    "\n",
    "2. **Status dos Pedidos**: A maioria dos pedidos está no status \"entregue\", indicando uma boa taxa de conclusão de vendas.\n",
    "\n",
    "3. **Preços e Fretes**: A distribuição de preços mostra uma concentração em produtos de valor médio, enquanto os fretes têm uma distribuição mais uniforme.\n",
    "\n",
    "4. **Categorias de Produtos**: Identificamos as categorias mais populares e as que geram maior receita.\n",
    "\n",
    "5. **Distribuição Geográfica**: Clientes e vendedores estão concentrados em determinados estados, principalmente no Sudeste do Brasil.\n",
    "\n",
    "Nos próximos notebooks, aprofundaremos a análise em aspectos específicos como comportamento do cliente, desempenho de vendas e análise geográfica mais detalhada."
   ]
  }
 ],
 "metadata": {
  "kernelspec": {
   "display_name": "Python 3",
   "language": "python",
   "name": "python3"
  },
  "language_info": {
   "codemirror_mode": {
    "name": "ipython",
    "version": 3
   },
   "file_extension": ".py",
   "mimetype": "text/x-python",
   "name": "python",
   "nbconvert_exporter": "python",
   "pygments_lexer": "ipython3",
   "version": "3.11.0"
  }
 },
 "nbformat": 4,
 "nbformat_minor": 4
}
